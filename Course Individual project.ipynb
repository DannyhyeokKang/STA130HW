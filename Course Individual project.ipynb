{
 "cells": [
  {
   "cell_type": "markdown",
   "id": "714cc4a7",
   "metadata": {},
   "source": [
    "# Individual Proposal"
   ]
  },
  {
   "cell_type": "markdown",
   "id": "e29b2258",
   "metadata": {},
   "source": [
    "# Analysis 1: Relationship Between Physical Activity and Mental Well-Being During COVID-19"
   ]
  },
  {
   "cell_type": "markdown",
   "id": "09271a3e",
   "metadata": {},
   "source": [
    "Research Question: Did the frequency of physical activity during the COVID-19 pandemic positively impact individuals' mental well-being?\n",
    "\n",
    "Variables:\n",
    "\n",
    "Independent Variable: LIFESTYLE_physical_activity_past_week — This variable assesses physical activity frequency over the past week, with ordinal categorical values such as \"Not at all,\" \"Once or twice,\" \"Three to five times,\" and \"Daily or almost daily.\"\n",
    "\n",
    "Dependent Variable: WELLNESS_mental_health_self_rating — A self-reported rating from 1 to 10, with 1 indicating poor mental health and 10 indicating excellent mental health. This variable provides a quantitative measure for comparing mental well-being across levels of physical activity.\n",
    "\n",
    "Hypothesis:\n",
    "\n",
    "Null Hypothesis (H0): \n",
    "There is no relationship between the frequency of physical activity and self-rated mental well-being during the COVID-19 pandemic.\n",
    "\n",
    "Alternative Hypothesis (H1): There is a positive relationship between physical activity frequency and higher self-rated mental well-being.\n",
    "\n",
    "Methodology:\n",
    "\n",
    "Visualization: \n",
    "Use a box plot to display the distribution of mental well-being scores for each level of physical activity frequency. This will help in observing any initial trends or patterns.\n",
    "\n",
    "Expected Outcome: If physical activity has a positive effect on mental well-being, we would expect higher well-being scores in individuals who reported more frequent physical activity.\n",
    "\n",
    "Relevance:\n",
    "During the COVID-19 pandemic, access to outdoor physical activity was often restricted. Understanding if physical activity correlates with better mental well-being can highlight its role as a coping mechanism. This information could be essential for promoting physical activity as part of mental health interventions during periods of social isolation."
   ]
  },
  {
   "cell_type": "markdown",
   "id": "46a66cdf",
   "metadata": {},
   "source": [
    "# Analysis Proposal 2: Impact of Perceived Work-Life Balance on Stress Levels"
   ]
  },
  {
   "cell_type": "markdown",
   "id": "db08884c",
   "metadata": {},
   "source": [
    "Variables:\n",
    "\n",
    "Independent Variable: WORK_work_life_balance — This self-reported rating of work-life balance on a scale of 1 to 10 (1 being \"poor\" and 10 being \"excellent\") reflects the degree to which participants feel they can manage work and personal life.\n",
    "\n",
    "Dependent Variable: WELLNESS_stress_level — A categorical variable that measures stress frequency over the past month, with options like \"Almost never,\" \"Sometimes,\" \"Often,\" and \"Almost always.\"\n",
    "Hypothesis:\n",
    "\n",
    "Null Hypothesis (H0): There is no association between perceived work-life balance and stress levels.\n",
    "\n",
    "Alternative Hypothesis (H1): Lower work-life balance ratings are associated with higher stress levels, suggesting that those with a poor work-life balance experience more frequent stress.\n",
    "\n",
    "Methodology:\n",
    "\n",
    "Data Transformation: Convert WELLNESS_stress_level into an ordinal scale (e.g., “Almost never” = 1, “Sometimes” = 2, etc.) for quantitative analysis.\n",
    "\n",
    "Visualization: Use a scatter plot with a fitted regression line to explore the linear relationship between work-life balance and stress levels.\n",
    "\n",
    "Expected Outcome: If work-life balance and stress are inversely related, we should observe a negative slope, suggesting that as work-life balance improves, stress levels decrease.\n",
    "\n",
    "Relevance:With the rise in remote work and blurred boundaries between professional and personal life, this analysis can offer insights into how perceptions of work-life balance relate to mental health. Such findings may underscore the importance of managing work-life balance as part of organizational health initiatives or individual coping strategies during challenging times."
   ]
  },
  {
   "cell_type": "markdown",
   "id": "e14de2e7",
   "metadata": {},
   "source": [
    "# Analysis Proposal 3: Influence of Online Social Interaction Frequency on Sense of Belonging"
   ]
  },
  {
   "cell_type": "markdown",
   "id": "f831a129",
   "metadata": {},
   "source": [
    "Research Question: Does the frequency of online social interactions correlate with individuals’ sense of belonging during the pandemic?\n",
    "\n",
    "Variables:\n",
    "\n",
    "Independent Variable: SOCIAL_online_interaction_frequency — This variable captures the frequency of online interactions with family or friends, with values such as \"Not at all,\" \"Less than once a month,\" \"Once a week,\" \"Daily,\" etc.\n",
    "\n",
    "Dependent Variable: WELLNESS_sense_of_belonging — This is a subjective measure, rated on a scale from 1 to 10, with higher scores indicating a stronger sense of belonging.\n",
    "Hypothesis:\n",
    "\n",
    "Null Hypothesis (H0): There is no relationship between the frequency of online social interactions and the sense of belonging.\n",
    "\n",
    "Alternative Hypothesis (H1): Higher frequency of online social interactions is associated with a stronger sense of belonging.\n",
    "\n",
    "Methodology:\n",
    "\n",
    "Data Preprocessing: Recategorize online interaction frequency into broader categories if necessary (e.g., weekly or more vs. less than weekly) to simplify analysis.\n",
    "\n",
    "Visualization: Use a bar plot to compare the average sense of belonging scores across online interaction frequency categories.\n",
    "\n",
    "Expected Outcome: A significant association would suggest that individuals with frequent online interactions report higher belonging scores, emphasizing online interaction’s role in fostering connection.\n",
    "\n",
    "Relevance:\n",
    "\n",
    "Social isolation during the COVID-19 pandemic increased the importance of digital communication. This analysis can reveal whether online interactions provide sufficient social support to reinforce belonging, which is essential for mental health and resilience during prolonged periods of isolation."
   ]
  }
 ],
 "metadata": {
  "kernelspec": {
   "display_name": "Python 3 (ipykernel)",
   "language": "python",
   "name": "python3"
  },
  "language_info": {
   "codemirror_mode": {
    "name": "ipython",
    "version": 3
   },
   "file_extension": ".py",
   "mimetype": "text/x-python",
   "name": "python",
   "nbconvert_exporter": "python",
   "pygments_lexer": "ipython3",
   "version": "3.11.6"
  }
 },
 "nbformat": 4,
 "nbformat_minor": 5
}
