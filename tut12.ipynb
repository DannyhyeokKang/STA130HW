{
 "cells": [
  {
   "cell_type": "markdown",
   "id": "6da84886",
   "metadata": {},
   "source": [
    "I will pass on review since I bascially went through.."
   ]
  },
  {
   "cell_type": "markdown",
   "id": "1ed4e9d8",
   "metadata": {},
   "source": [
    "I believe demo isn't really questions.., so I will pass. \n",
    "Correct me if I am wrong.. I will redo it..Thanks.."
   ]
  },
  {
   "cell_type": "markdown",
   "id": "8e3494f6",
   "metadata": {},
   "source": [
    "# Communcation activity 1"
   ]
  },
  {
   "cell_type": "markdown",
   "id": "e87fb9ab",
   "metadata": {},
   "source": [
    "1. If  test is negative, patient can be reassured by  Negative Predictive Value of 0.976, meaning most negative results are accurate. However, False Negative Rate of 0.232 indicates a significant chance of missing true cases of Lyme disease. patient should monitor symptoms and consider follow-up testing or a second opinion if symptoms persist. If test is positive, patient should be cautious, as precision 0.204 indicates a high likelihood of false positives. They should consult with their doctor about confirmatory testing or alternative diagnostic methods.\n",
    "\n",
    "    Follow up: \n",
    "    \n",
    "    Regardless of test outcome, follow-up testing is crucial, particularly for positive result, due to test’s low Precision. The patient should also discuss alternative diagnoses or broader treatment options to address their symptoms comprehensively."
   ]
  },
  {
   "cell_type": "markdown",
   "id": "ccbfa6b6",
   "metadata": {},
   "source": [
    "2. For negative test, healthcare provider must weigh False Negative Rate 0.232 against risks of delayed treatment. They should closely monitor patient and reassess if symptoms worsen. For  positive test, doctors should consider confirmatory testing before starting treatment to avoid unnecessary side effects, especially given the high False Positive Rate (0.243). However, if clinical symptoms strongly align with Lyme disease, treatment may be warranted even without confirmation. \n",
    "    \n",
    "    Follow up:\n",
    "    \n",
    "    Maybe (?) provide transparent communication about the test’s strengths and limitations, including explanations of key metrics like NPV and FNR."
   ]
  },
  {
   "cell_type": "markdown",
   "id": "94656bf9",
   "metadata": {},
   "source": [
    "3. Investing in confirmatory testing protocols can mitigate the consequences of false positives and negatives and using the test as a preliminary screening tool rather than a definitive diagnostic measure.\n",
    "    \n",
    "    Follow up:\n",
    "    \n",
    "    Recalibrating to predict more positives could reduce false negatives but may overwhelm resources due to more false positives. Recalibrating to predict more negatives could result in more missed cases but reduce unnecessary treatment.\n",
    "    \n",
    "    Not too sure what you mean by consider implication. Please remind me later."
   ]
  },
  {
   "cell_type": "markdown",
   "id": "fcedfb58",
   "metadata": {},
   "source": [
    "# Communication Activity 2"
   ]
  },
  {
   "cell_type": "markdown",
   "id": "82cdf844",
   "metadata": {},
   "source": [
    "    Scenario 1: \n",
    "    \n",
    "       Group A: \n",
    "           \n",
    "           AI can analyze vast datasets to identify \n",
    "           individuals at risk of chronic diseases early,\n",
    "           enabling timely interventions. Early detection \n",
    "           reduces long-term healthcare costs and improves \n",
    "           patient outcomes.\n",
    "           \n",
    "           AI can provide tailored recommendations based \n",
    "           on individual patient profiles, leading to more \n",
    "           effective and efficient care plans.\n",
    "           \n",
    "       Group B:\n",
    "           \n",
    "           AI systems often inherit biases present in the \n",
    "           training data, potentially leading to unequal \n",
    "           healthcare recommendations, particularly for \n",
    "           marginalized groups.\n",
    "           \n",
    "           The use of sensitive patient data raises \n",
    "           ethical concerns about security, consent, and \n",
    "           the risk of missuse by corporations or third \n",
    "           parties."
   ]
  },
  {
   "cell_type": "markdown",
   "id": "a5cbf480",
   "metadata": {},
   "source": [
    "Scenario 2: \n",
    "    \n",
    "       Group A: \n",
    "           \n",
    "           Predictive policing allows law enforcement to \n",
    "           allocate resources more effectively by \n",
    "           identifying high-crime areas, reducing overall \n",
    "           crime rates.\n",
    "           \n",
    "            By analyzing historical data, AI can help \n",
    "            prevent crimes before they occur, enhancing \n",
    "            community safety.\n",
    "           \n",
    "       Group B:\n",
    "           \n",
    "           Historical crime data often reflect systemic \n",
    "           biases, leading to over-policing in \n",
    "           marginalized communities and perpetuating \n",
    "           cycles of mistrust and inequity.\n",
    "           \n",
    "           AI systems are often black-box models, making \n",
    "           it difficult to understand or challenge \n",
    "           decisions. This lack of transparency can erode \n",
    "           public trust in law enforcement."
   ]
  }
 ],
 "metadata": {
  "kernelspec": {
   "display_name": "Python 3 (ipykernel)",
   "language": "python",
   "name": "python3"
  },
  "language_info": {
   "codemirror_mode": {
    "name": "ipython",
    "version": 3
   },
   "file_extension": ".py",
   "mimetype": "text/x-python",
   "name": "python",
   "nbconvert_exporter": "python",
   "pygments_lexer": "ipython3",
   "version": "3.11.6"
  }
 },
 "nbformat": 4,
 "nbformat_minor": 5
}
