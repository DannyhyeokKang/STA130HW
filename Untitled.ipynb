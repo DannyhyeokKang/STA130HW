{
 "cells": [
  {
   "cell_type": "markdown",
   "id": "af43447f",
   "metadata": {},
   "source": [
    "Communication\n",
    "1.1.🚰🔥\n",
    "  2.I am from South Korea, my major might be statistics and       economics.I believe there aren't really interesting facts     about me..\n",
    "2.I would like to add armour on both ends of the wings,         middle, and fins(? not sure what those are called).\n",
    "3.I would switch the door.\n",
    "4.4.I believe chatbot succeed on analyzing Monte Hall problem."
   ]
  },
  {
   "cell_type": "markdown",
   "id": "39fb27d4",
   "metadata": {},
   "source": [
    "Explanation: I believe the purpose of this tutorial is an introduction to using platforms like Jupyter notebooks and AI ChatBots such as Chatgpt for data analysis in Python. This exercise includes practical tasks such as finding a dataset, handling missing data, and generating summaries and code from the chatbot. I also think it helps getting used to with coding python for beginners and chatbot assistance for practical data tasks. It also envolves finding the limits of AI tools in generating results (just like HW2). Overall, it explores key statistical concepts of missing data, chatbot interactions, with the situation that  AI tools may not fully handle all problems correctly."
   ]
  },
  {
   "cell_type": "markdown",
   "id": "9a33ea2f",
   "metadata": {},
   "source": [
    "https://chatgpt.com/share/66ed6eb5-eadc-8010-8da3-c12c09caf16d\n",
    "This conversation link is from the first half tutorial.\n",
    "I believe you already seen this, but just in case..."
   ]
  },
  {
   "cell_type": "markdown",
   "id": "d7922241",
   "metadata": {},
   "source": [
    "The last half of conversation: https://chatgpt.com/share/66f2f44e-9e84-8010-9b95-cd30dcfc4f2a"
   ]
  }
 ],
 "metadata": {
  "kernelspec": {
   "display_name": "Python 3 (ipykernel)",
   "language": "python",
   "name": "python3"
  },
  "language_info": {
   "codemirror_mode": {
    "name": "ipython",
    "version": 3
   },
   "file_extension": ".py",
   "mimetype": "text/x-python",
   "name": "python",
   "nbconvert_exporter": "python",
   "pygments_lexer": "ipython3",
   "version": "3.11.6"
  }
 },
 "nbformat": 4,
 "nbformat_minor": 5
}
