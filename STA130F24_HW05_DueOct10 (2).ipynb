{
 "cells": [
  {
   "cell_type": "markdown",
   "id": "5ae681ef",
   "metadata": {},
   "source": [
    "# STA130 Homework 05 \n",
    "\n",
    "Please see the course [wiki-textbook](https://github.com/pointOfive/stat130chat130/wiki) for the list of topics covered in this homework assignment, and a list of topics that might appear during ChatBot conversations which are \"out of scope\" for the purposes of this homework assignment (and hence can be safely ignored if encountered)"
   ]
  },
  {
   "cell_type": "markdown",
   "id": "40da15ca",
   "metadata": {},
   "source": [
    "### Marking Rubric (which may award partial credit) \n",
    "\n",
    "- [0.1 points]: All relevant ChatBot summaries [including link(s) to chat log histories if you're using ChatGPT] are reported within the notebook\n",
    "- [0.3 points]: Evaluation of written communication for \"Question 2\"\n",
    "- [0.3 points]: Evaluation of written communication for \"Question 4\"\n",
    "- [0.3 points]: Evalution of submission for \"Question 8\"\n"
   ]
  },
  {
   "cell_type": "markdown",
   "id": "5d4637b0",
   "metadata": {},
   "source": [
    "### 2. Towards the end of the \"first pre-lecture\" video (above) it is stated that, \"It is important to note that outcomes of tests refer to the population parameter, rather than the sample statistic! As such, the result that we get is for the population.\" In terms of the distinctions between the concepts of $x_i\\!$'s, $\\bar x$, $\\mu$, and $\\mu_0$, how would you describe what the sentence above means? Explain this concisely in your own words for a \"non-statsitical\" audience, defining the technical statistical terminology you use in your answer.<br>\n",
    "\n",
    "<details class=\"details-example\"><summary style=\"color:blue\"><u>Further Guidance</u></summary>\n",
    "\n",
    "> _A formal **null hypothesis** has the form $H_0: \\mu=\\mu_0$ which states that the average value $\\mu$ of the population is $\\mu_0$, while the **alternative hypothesis** would then be $H_A: H_0 \\text{ is false}$ which states the average value $\\mu$ of the population is not $\\mu_0$. This question asks for a clear explanation of the distinguishing characteristics of the between the concepts of observed sample values $x_i$ (for $i = 1, \\cdots, n$), the observed sample average $\\bar x$, the actual value of $\\mu$, and the value $\\mu_0$ hypothesized under the null hypothesis relative to hypothesis testing._   \n",
    "> \n",
    "> _This question extends \"Question 7\" from the Week 4 HW that you considered last week in a more formal manner in terms of hypothesis testing notation. It should be getting much easier to delineate the differences between parameters and populations, and samples and statistics; and, to understand how to interpret and apply these concepts in the context of new topics (such as hypothesis testing, as is done here)._ \n",
    "> \n",
    "> _As continually suggested and encouraged regarding the topics of parameters, populations, samples, and statistics, check with your notes or your favourite ChatBot to make sure you have a clear understanding of these terms. At this point in the course, you should be able to read and understand of the meaning of the termenologically dense sentence addressed in the prompt to this question!_ \n",
    ">\n",
    "> Don't forget to ask for summaries of your ChatBot session(s) if you are using a ChatBot interaction to help learn and understand something! You only need to include link(s) to chat log histories if you're using ChatGPT, e.g., if you're using the custom STA130 NBLM ChatBot you can't get chat history logs, but you can get summaries, so just paste these into your homework notebook and indicate the both you're using if it can't provide links to chat log histories.\n",
    "    \n",
    "    \n",
    "\n",
    "</details>\n"
   ]
  },
  {
   "cell_type": "markdown",
   "id": "aa32426c",
   "metadata": {},
   "source": [
    "In a hypothesis test, we use data from a sample to make inferences about the population. The sample statistic, such as the sample mean (x̄), is used to estimate the population parameter, like the population mean (μ). Since we can’t directly know the true population mean, we hypothesize a value for it under the null hypothesis, often denoted as μ₀. This serves as our assumption about the population parameter We then calculate an observed statistic from our sample data, such as x̄, and evaluate how likely it is to observe this statistic or something more extreme under the null hypothesis. Based on this likelihood, we decide whether to reject or fail to reject the null hypothesis, drawing conclusions about the population as a whole, not just the sample. Thus, the test outcome always refers to the population parameter, even though it is based on a sample."
   ]
  },
  {
   "cell_type": "markdown",
   "id": "8362fa03",
   "metadata": {},
   "source": [
    "### 4. The second \"Pre-lecture\" video (above) suggests that a smaller p-value makes the null hypothesis look more ridiculous. Explain why this is in your own words in a way that makes the most sense to you, clarifying the meaning of any technical statistical terminology you use in your answer.<br>\n",
    "\n",
    "<details class=\"details-example\"><summary style=\"color:blue\"><u>Further Guidance</u></summary>\n",
    "\n",
    "> _Hint: your answer will likely be most efficiently correct and clear if it discusses how the observed test statistic relates to the sampling distribution of the test statistic under the null hypothesis._\n",
    "    \n",
    "</details> "
   ]
  },
  {
   "cell_type": "markdown",
   "id": "fc8b3b20",
   "metadata": {},
   "source": [
    "A p-value measures how likely the observed data is under the assumption that the null hypothesis is true. A small p-value suggests the data is unlikely to occur by chance, making the null hypothesis seem improbable. In contrast, a larger p-value indicates the data aligns more with the null hypothesis, making it more plausible. Statistically, the p-value compares the observed data to what we would expect under the null, with smaller values showing fewer data points supporting the null hypothesis."
   ]
  },
  {
   "cell_type": "markdown",
   "id": "1c953507",
   "metadata": {},
   "source": [
    "### 8. Complete the following assignment. "
   ]
  },
  {
   "cell_type": "markdown",
   "id": "674f9956",
   "metadata": {},
   "source": [
    "### Fisher's Tea Experiment\n",
    "\n",
    "**Overview**\n",
    "\n",
    "A most beloved piece of [statistical lore](https://rss.onlinelibrary.wiley.com/doi/full/10.1111/j.1740-9713.2012.00620.x) about the (most famous) statistician Ronald Fisher involves cups of tea with milk. Fisher and his friend and colleague, Dr. Muriel Bristol, worked at Cambridge in the 1920s and regularly had tea together. During one of their afternoon tea times, Bristol refused a cup of tea from Fisher because he put milk in first BEFORE pouring in the tea. Bristol said she could taste the difference, and much preferred the taste of tea when the milk was poured in afterward the tea. Fisher didn't think that there could be a difference and proposed a hypothesis test to examine the situation.\n",
    "\n",
    "Fisher made 8 cups of tea, 4 with milk added in first and 4 with tea added in first, and gave them to Dr. Bristol without her seeing how they were made and she would say if she thought the tea or the milk was poured first. As it turned out, Bristol correctly identified if the tea or milk was poured first for all 8 of the cups. Fisher, being a skeptical statistician wanted to test if this could be happening by chance with Bristol just randomly guessing (or whether there was evidence against an assumption of Bristol just randomly guessing), and subsequently designed a statistical hypothesis test to do so.\n",
    "\n",
    "Suppose you run an experiment like this with students in STA130. You get a random sample of 80 STA130 students to each taste one cup of tea and tell you whether they think the milk or tea was poured first. **Suppose 49 students are able to correctly state which was poured first.** Provide a statistical analysis of this experiment as guided through the following set of questions.\n",
    "\n",
    "**Data**\n",
    "\n",
    "49 out of a sample of 80 students are able to correctly state which was poured first.\n",
    "\n",
    "**Deliverables**\n",
    "\n",
    "While you can choose how to approach the project, we are interested in evaluating your report relative to the following deliverables: \n",
    "- Clarity of your documentation, code, and written report \n",
    "- Description of the population (and sample) and parameter of interest (and corresponding observed test statistic) \n",
    "- Formal null hypotheses $H_0$ \n",
    "    - Provide a formal version $H_0$ based on the population parameter \n",
    "    - Provide an informal interpretive statement explaining $H_0$ in more casual everyday common language\n",
    "    - Alternative hypothesis $H_A$ in terms of $H_0$\n",
    "- Quantitative analysis addressing the validity of $H_0$\n",
    "    - Explanation of the method clearly articulating the purpose of the usage of statistic(s) to address $H_0$ the population parameter of interest \n",
    "\n",
    "\n",
    "**Comments**\n",
    "\n",
    "- Regarding the population (and the sample), there is a clear difference between the experiment with STA130 students considered here and the original motivating experimental context of Fisher and Bristol.\n",
    "    - the sample size is different.\n",
    "    - but so too is the nature of the population. the parameter in question might be considered more personalized in the original experiment; whereas, the parameter in the context of STA130 students might be a more abstract concept\n",
    "- The analysis here could be approached from the perspective of formal hypothesis testing.\n",
    "    - which would likely involve the simulation of a sampling distribution under $H_0$ in order to estimate p-value with respect to the null hypothesis based on the observed test statistic (how?), concluding with the assement of $H_0$ based on an interpretation of the meaning of the p-value relative to $H_0$\n",
    "    - but a confidence interval approach to considering the hypothesis could also be considered.\n",
    "\n",
    "> Consider organizing your report within the following outline template.\n",
    "> - Problem Introduction \n",
    ">     - Relationship between this experiment and the original with Fisher and Bristol\n",
    ">     - Statements of the Null Hypothesis and Alternative hypothesis\n",
    "> - Quantitative Analysis\n",
    ">     - Methodology Code and Explanations\n",
    ">     - *(if needed/optional)* Supporting Visualizations \n",
    "> - Findings and Discussion\n",
    ">     - Conclusion regarding the Null Hypothesis\n",
    "\n",
    "#### Further Instructions:\n",
    "- When using random functions, you should make your analysis reproducible by using the `np.random.seed()` function\n"
   ]
  },
  {
   "cell_type": "code",
   "execution_count": 3,
   "id": "5126698a",
   "metadata": {},
   "outputs": [
    {
     "data": {
      "image/png": "[encoded data removed]",
      "text/plain": [
       "<Figure size 640x480 with 1 Axes>"
      ]
     },
     "metadata": {},
     "output_type": "display_data"
    },
    {
     "name": "stdout",
     "output_type": "stream",
     "text": [
      "Sample proportion (p̂): 0.6125\n",
      "Standard Error: 0.0559\n",
      "Two-tailed p-value (Bootstrap): 0.0441\n",
      "Reject the null hypothesis: Evidence students can identify the pour order better than random guessing.\n"
     ]
    }
   ],
   "source": [
    "import numpy as np\n",
    "import matplotlib.pyplot as plt\n",
    "import math\n",
    "\n",
    "# Input data\n",
    "correct_count = 49\n",
    "sample_size = 80\n",
    "p_null = 0.5  # Null hypothesis proportion (random guessing)\n",
    "\n",
    "# Calculate the sample proportion and standard error\n",
    "p_hat = correct_count / sample_size\n",
    "standard_error = math.sqrt((p_null * (1 - p_null)) / sample_size)\n",
    "\n",
    "# Bootstrap process\n",
    "n_iterations = 10000\n",
    "np.random.seed(42)  # For reproducibility\n",
    "\n",
    "# Generate bootstrap samples under the null hypothesis\n",
    "bootstrap_samples = np.random.binomial(n=sample_size, p=p_null, size=n_iterations)\n",
    "bootstrap_proportions = bootstrap_samples / sample_size\n",
    "\n",
    "# Calculate the bootstrap p-value (two-sided)\n",
    "extreme_count = np.sum((bootstrap_proportions >= p_hat) | (bootstrap_proportions <= (1 - p_hat)))\n",
    "bootstrap_p_value = extreme_count / n_iterations\n",
    "\n",
    "# Create a histogram with updated style and different visual elements\n",
    "plt.style.use('ggplot')  # New plot style\n",
    "plt.hist(bootstrap_proportions, bins=30, density=True, color='lightgreen', edgecolor='black', alpha=0.75)\n",
    "\n",
    "# Adding vertical lines for key values\n",
    "plt.axvline(p_hat, color='darkblue', linestyle=':', linewidth=2, label=f'Observed p̂ = {p_hat:.2f}')\n",
    "plt.axvline(0.5, color='orange', linestyle='--', linewidth=2, label='Null hypothesis p = 0.5')\n",
    "\n",
    "# Highlighting the two-sided p-value region with a shaded area\n",
    "plt.fill_betweenx([0, plt.gca().get_ylim()[1]], p_hat, 1 - p_hat, color='lightcoral', alpha=0.3, label='Two-sided p-value')\n",
    "\n",
    "# Customizing titles and labels\n",
    "plt.title('Bootstrap Proportion Distribution', fontsize=16, fontweight='bold')\n",
    "plt.xlabel('Proportion', fontsize=12)\n",
    "plt.ylabel('Density', fontsize=12)\n",
    "plt.legend(fontsize=10)\n",
    "plt.grid(True)\n",
    "plt.tight_layout()\n",
    "\n",
    "# Show the plot\n",
    "plt.show()\n",
    "\n",
    "# Output the results\n",
    "print(f\"Sample proportion (p̂): {p_hat:.4f}\")\n",
    "print(f\"Standard Error: {standard_error:.4f}\")\n",
    "print(f\"Two-tailed p-value (Bootstrap): {bootstrap_p_value:.4f}\")\n",
    "\n",
    "# Conclusion using the bootstrap p-value\n",
    "alpha = 0.05\n",
    "if bootstrap_p_value < alpha:\n",
    "    print(\"Reject the null hypothesis: Evidence students can identify the pour order better than random guessing.\")\n",
    "else:\n",
    "    print(\"Fail to reject the null hypothesis: No evidence that students can identify the pour order better than random guessing.\")\n"
   ]
  },
  {
   "cell_type": "markdown",
   "id": "e843e009",
   "metadata": {},
   "source": [
    "We are investigating whether the way milk tea is prepared affects its taste. \n",
    "The focus is on a group of tea enthusiasts, specifically students in the STA130 course. \n",
    "From this group, we selected a sample of 80 students who participated in a taste test to determine if they could distinguish between two different milk tea preparation methods. Out of the 80 participants, 49 correctly identified the preparation method. Our goal is to assess whether the ability to identify the correct method is due to chance or if there is a true taste difference. This will be determined using a p-value.\n",
    "Population: The full group of STA130 students capable of taking the milk tea test.\n",
    "Sample: A subset of 80 students from the STA130 class who participated in the test.\n",
    "Parameter of Interest: The proportion of students who can correctly identify the milk tea preparation method.\n",
    "Hypotheses:\n",
    "Null Hypothesis (H0): The students’ ability to identify the correct method is purely by chance, with a probability of 0.5 (50/50 chance of guessing correctly). Formally, H0: p = 0.5, where p represents the proportion of students who can correctly distinguish the preparation method.\n",
    "Alternative Hypothesis (H1): The students’ ability to identify the correct method is not due to chance. H1: p ≠ 0.5, suggesting the students' responses are not random.\n",
    "Process: From the sample, we found that 49 out of 80 students correctly identified the preparation method, yielding a sample proportion of p = 0.6125. We then performed a bootstrap analysis, comparing the sample mean to a two-sided p-value range of 0.6125 to 0.3875. After calculating the proportion of bootstrap means falling outside this range, we obtained a p-value of 0.0441. Since this value is less than the significance threshold of 0.05, we can reject the null hypothesis, concluding that the results are unlikely to be due to random chance."
   ]
  },
  {
   "cell_type": "markdown",
   "id": "699946e5",
   "metadata": {},
   "source": [
    "Chatbot Summary \n",
    ": We discussed a statistical analysis of whether STA130 students can distinguish between two milk tea preparation methods. A sample of 80 students was tested, and 49 correctly identified the preparation method. The goal was to determine if this result was due to chance or a real ability to detect differences. The null hypothesis assumed a 50/50 chance of guessing correctly, while the alternative hypothesis suggested the students' ability was not random. A bootstrap analysis was conducted, resulting in a p-value of 0.0441, leading to the rejection of the null hypothesis, indicating the result is not due to chance.\n",
    "\n",
    "\n",
    "\n",
    "\n"
   ]
  },
  {
   "cell_type": "markdown",
   "id": "2b4baedb",
   "metadata": {},
   "source": [
    "I wasn't able to import chat conversation from notebooklm and while trying to figure out how to import notebooklm, it turns out if you refresh the page the history gets erased :("
   ]
  },
  {
   "cell_type": "markdown",
   "id": "87830986",
   "metadata": {},
   "source": [
    "i hope i dont get my mark taken from that, I was able to get the summary though..."
   ]
  }
 ],
 "metadata": {
  "kernelspec": {
   "display_name": "Python 3 (ipykernel)",
   "language": "python",
   "name": "python3"
  },
  "language_info": {
   "codemirror_mode": {
    "name": "ipython",
    "version": 3
   },
   "file_extension": ".py",
   "mimetype": "text/x-python",
   "name": "python",
   "nbconvert_exporter": "python",
   "pygments_lexer": "ipython3",
   "version": "3.11.6"
  }
 },
 "nbformat": 4,
 "nbformat_minor": 5
}
