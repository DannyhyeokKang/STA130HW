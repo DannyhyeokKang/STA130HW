{
 "cells": [
  {
   "cell_type": "markdown",
   "id": "07a284af",
   "metadata": {},
   "source": [
    "I skipped review to save time and since it is basically review from last tutorial. I hope you understand this professor.. :) Thanks. "
   ]
  },
  {
   "cell_type": "markdown",
   "id": "858d375f",
   "metadata": {},
   "source": [
    "# Demo"
   ]
  },
  {
   "cell_type": "markdown",
   "id": "f758836e",
   "metadata": {},
   "source": [
    "1. The concept of a classification decision tree\n",
    "\n",
    " - What's similar about this code and the multiple linear regression code above?\n",
    "     \n",
    "        -> Both involve predicting an outcome based on a set of predictor variables. Like multiple linear regression, classification decision trees also use the predictor-outcome relationship to make predictions.\n",
    " \n",
    " - A classification decision tree is a model like multiple linear regression... how so?\n",
    " \n",
    "         -> Both are supervised learning techniques and aim to learn patterns in the data from the training set and make predictions. They also involve splitting data into training and testing sets to evaluate performance. The difference between two is that regression predicts a continuous variable and classification predict discrete classes.\n",
    " \n",
    " - Predictions of classification decision tree are made differently than those of multiple linear regression... how so?\n",
    " \n",
    "        -> Decision trees split the data into graded regions using decision rules based on features, making predictions by determining which the input data falls into. Linear regression uses a linear combination of predictors to estimate a numerical value."
   ]
  },
  {
   "cell_type": "markdown",
   "id": "6e501729",
   "metadata": {},
   "source": [
    "2. The concept of confusion matrix\n",
    " - Classification and regression are distinguised by the nature of the outcome variables they predict... How so?\n",
    " \n",
    "        -> Regression predicts continuous numerical outcomes. Classification predicts categorical outcomes.\n",
    " \n",
    " - What should be similar about model performance evaluation for classification decision tree to what we've seen previously?\n",
    " \n",
    "         -> Both model can be evaluated Training and testing datasets or predictive accuracy. \n",
    " \n",
    " - Are multiple kinds of model performance evaluation metrics possible for classification decision tree based on the confusion matrix?\n",
    " \n",
    "         -> Yes. The confusion matrix provides values to calculate multiple metric such as accuracy and percision."
   ]
  },
  {
   "cell_type": "markdown",
   "id": "e8bbfc37",
   "metadata": {},
   "source": [
    "# Communication"
   ]
  },
  {
   "cell_type": "markdown",
   "id": "687abb26",
   "metadata": {},
   "source": [
    "1. The train-test validation framework evaluates model performance by splitting the data into two parts which is training dataset (In-sample) and testing dataset (Out-of-sample). The purpose is to prevent overfitting and (I am not sure about this one->) to assess the model’s ability to predict unseen outcomes accurately."
   ]
  },
  {
   "cell_type": "markdown",
   "id": "1184a880",
   "metadata": {},
   "source": [
    "2. SKIP.. since I wasn't able to hear other group's answer."
   ]
  },
  {
   "cell_type": "markdown",
   "id": "2b65afb4",
   "metadata": {},
   "source": [
    "3. Scenario: Medical diagnosis for a life-threatening disease.\n",
    "\n",
    "\t•Type I Error : Diagnosing a healthy patient with the disease.\n",
    "    \n",
    "    Implication: The patient undergoes unnecessary stress and expensive, potentially harmful treatments.\n",
    "    \n",
    "\t•Type II Error : Failing to diagnose a patient who has the disease.\n",
    "    \n",
    "    Implication: The patient doesn’t receive timely treatment, leading to severe health outcomes."
   ]
  },
  {
   "cell_type": "markdown",
   "id": "d7282239",
   "metadata": {},
   "source": [
    "4. Scenario: Spam email filtering.\n",
    "\n",
    "\t•False Positive - Legitimate email marked as spam:\n",
    "    \n",
    "    Implication: Important emails might be missed \n",
    "    \n",
    "\t•False Negative - Spam email marked as legitimate:\n",
    "    \n",
    "    Implication: User receives unwanted spam, which might include phishing attempts or scams."
   ]
  },
  {
   "cell_type": "markdown",
   "id": "0943d996",
   "metadata": {},
   "source": [
    "5. Type I error corresponds to a false positive. Type II error corresponds to a false negative. Type I/II errors arise in hypothesis testing. False positive/negative predictions occur in classification models. Both concepts relate to the model’s accuracy and the consequences of incorrect decisions."
   ]
  },
  {
   "cell_type": "markdown",
   "id": "b4bcd6e3",
   "metadata": {},
   "source": [
    "6. The train-test framework helps balance errors if a model overfits, it might lead to more false positives or false negatives on new data. "
   ]
  },
  {
   "cell_type": "markdown",
   "id": "138eb7a4",
   "metadata": {},
   "source": [
    "7. False Positive usually involve wasted resources and False Negatives can have severe consequences.\n"
   ]
  }
 ],
 "metadata": {
  "kernelspec": {
   "display_name": "Python 3 (ipykernel)",
   "language": "python",
   "name": "python3"
  },
  "language_info": {
   "codemirror_mode": {
    "name": "ipython",
    "version": 3
   },
   "file_extension": ".py",
   "mimetype": "text/x-python",
   "name": "python",
   "nbconvert_exporter": "python",
   "pygments_lexer": "ipython3",
   "version": "3.11.6"
  }
 },
 "nbformat": 4,
 "nbformat_minor": 5
}
